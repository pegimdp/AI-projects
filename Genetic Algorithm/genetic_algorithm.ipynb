{
 "cells": [
  {
   "cell_type": "markdown",
   "metadata": {},
   "source": [
    "# Genetic Algorithm for Logic Gates\n",
    "In this problem, a truth-table with n columns of input and one column of output is given and the goal is to find a set of logic gates (n-1 gates specifically) that produce the output. <br>\n",
    "Here we will use a method inspired by nature and natural selection which will result in the best set of logic gates and the output of the final gate will give the correct output (the same output as the truth table).<br>\n",
    "    In each row, the first two columns are given to the first gate and the consecutive gates take the output of the previous gate and the next row as input.Six basic logic gates i.e. AND, OR, XOR, NAND, NOR, XNOR can be used as each gate.The output of the model should be a specific comibination of the available gates.<br>\n",
    "    The problem is solved in 4 phases using a general genetic algorithm.\n",
    "     <img src=\"logic_gates.png\"> "
   ]
  },
  {
   "cell_type": "markdown",
   "metadata": {},
   "source": [
    "For 5 input values and 4 gates we would have the following circuit:\n",
    "<img src=\"example.png\"> "
   ]
  },
  {
   "cell_type": "markdown",
   "metadata": {},
   "source": [
    "## Packages ##\n",
    "\n",
    "First, let's run the cell below to import all the packages that you will need during this assignment. \n",
    "- [numpy](www.numpy.org) is the fundamental package for scientific computing with Python.\n",
    "- [pandas](https://pandas.pydata.org) is a fast and easy to use open source data analysis and manipulation tool built on top of Python. \n",
    "- [random](https://docs.python.org/3/library/random.html) This module implements pseudo-random number generators for various distributions.\n",
    "-[itertools](https://docs.python.org/2/library/itertools.html) This module implements a number of iterator building blocks inspired by constructs from APL, Haskell, and SML.\n",
    "- [operator](https://docs.python.org/3/library/operator.html) The operator module exports a set of efficient functions corresponding to the intrinsic operators of Python."
   ]
  },
  {
   "cell_type": "code",
   "execution_count": 1,
   "metadata": {},
   "outputs": [],
   "source": [
    "import numpy as np \n",
    "import pandas as pd\n",
    "import random\n",
    "import itertools\n",
    "import operator"
   ]
  },
  {
   "cell_type": "markdown",
   "metadata": {},
   "source": [
    "## Phase 1: Specifying Gene and Chromosome Concepts in the Problem"
   ]
  },
  {
   "cell_type": "markdown",
   "metadata": {},
   "source": [
    "A chromosome consists of a set of genes and this set is a suggested solution for the problem.Here we define the genes and the chromosomes as follows:<br>\n",
    "  >  <b>Gene</b>: Every gene is a single gate.<br>\n",
    "     <b>Chromosome</b>: Every chromosome is a permuation of genes and is a suggested solution.<br>\n",
    "     <b>Population</b>: Every population consists of different chromosomes i.e. different possible solutions to the problem.</b><br>"
   ]
  },
  {
   "cell_type": "markdown",
   "metadata": {},
   "source": [
    "### Implementation note \n",
    "Genes are considered to be functions (gates) that are applied to the binary input and chromosomes a list (vector) of numbers from 0 to 5 that correspond these digits to AND, OR, XOR, NAND, NOR and XNOR gates respectively.Population is an m x n matrix where m is the size of the population and n the number of input values (columns of the given truth table minus 1)."
   ]
  },
  {
   "cell_type": "markdown",
   "metadata": {},
   "source": [
    "Let us first define the logic gates aka genes:"
   ]
  },
  {
   "cell_type": "code",
   "execution_count": 2,
   "metadata": {},
   "outputs": [],
   "source": [
    "gate_types = 6\n",
    "gates_labels = [] #corresponding to AND,OR,XOR,NAND,NOR,XNOR respectively in this problem\n",
    "for gate_num in range(gate_types):\n",
    "    gates_labels.append(gate_num)\n",
    "    \n",
    "'''defining AND, OR and XOR gates, the rest of the gates can be constructed by taking logical complements, \n",
    "which is possible by applying the not operator on them.\n",
    "'''\n",
    "def AND_gene(a, b): #NAND is not AND\n",
    "    if a == 1 and b == 1:\n",
    "        return True\n",
    "    else:\n",
    "        return False\n",
    "\n",
    "def OR_gene(a, b): #NOR is not OR\n",
    "    if a == 1 or b == 1:\n",
    "        return True\n",
    "    else:\n",
    "        return False\n",
    "    \n",
    "def XOR_gene(a, b): #XNOR is not XOR\n",
    "    if a == 1 and b == 1:\n",
    "        return False\n",
    "    return OR_gene(a, b)"
   ]
  },
  {
   "cell_type": "markdown",
   "metadata": {},
   "source": [
    "### Loading CSV Truth Table ### \n",
    "To know the dimension of the chromosomes and hence the dimension of the population matrix we first need to read the the truth tabel.For n+1 total columns in the csv file there will be n-1 gates as explained above."
   ]
  },
  {
   "cell_type": "code",
   "execution_count": 3,
   "metadata": {},
   "outputs": [
    {
     "data": {
      "text/html": [
       "<div>\n",
       "<style scoped>\n",
       "    .dataframe tbody tr th:only-of-type {\n",
       "        vertical-align: middle;\n",
       "    }\n",
       "\n",
       "    .dataframe tbody tr th {\n",
       "        vertical-align: top;\n",
       "    }\n",
       "\n",
       "    .dataframe thead th {\n",
       "        text-align: right;\n",
       "    }\n",
       "</style>\n",
       "<table border=\"1\" class=\"dataframe\">\n",
       "  <thead>\n",
       "    <tr style=\"text-align: right;\">\n",
       "      <th></th>\n",
       "      <th>Input1</th>\n",
       "      <th>Input2</th>\n",
       "      <th>Input3</th>\n",
       "      <th>Input4</th>\n",
       "      <th>Input5</th>\n",
       "      <th>Input6</th>\n",
       "      <th>Input7</th>\n",
       "      <th>Input8</th>\n",
       "      <th>Input9</th>\n",
       "      <th>Input10</th>\n",
       "      <th>Output</th>\n",
       "    </tr>\n",
       "  </thead>\n",
       "  <tbody>\n",
       "    <tr>\n",
       "      <th>count</th>\n",
       "      <td>1024.000000</td>\n",
       "      <td>1024.000000</td>\n",
       "      <td>1024.000000</td>\n",
       "      <td>1024.000000</td>\n",
       "      <td>1024.000000</td>\n",
       "      <td>1024.000000</td>\n",
       "      <td>1024.000000</td>\n",
       "      <td>1024.000000</td>\n",
       "      <td>1024.000000</td>\n",
       "      <td>1024.000000</td>\n",
       "      <td>1024.000000</td>\n",
       "    </tr>\n",
       "    <tr>\n",
       "      <th>mean</th>\n",
       "      <td>0.500000</td>\n",
       "      <td>0.500000</td>\n",
       "      <td>0.500000</td>\n",
       "      <td>0.500000</td>\n",
       "      <td>0.500000</td>\n",
       "      <td>0.500000</td>\n",
       "      <td>0.500000</td>\n",
       "      <td>0.500000</td>\n",
       "      <td>0.500000</td>\n",
       "      <td>0.500000</td>\n",
       "      <td>0.250000</td>\n",
       "    </tr>\n",
       "    <tr>\n",
       "      <th>std</th>\n",
       "      <td>0.500244</td>\n",
       "      <td>0.500244</td>\n",
       "      <td>0.500244</td>\n",
       "      <td>0.500244</td>\n",
       "      <td>0.500244</td>\n",
       "      <td>0.500244</td>\n",
       "      <td>0.500244</td>\n",
       "      <td>0.500244</td>\n",
       "      <td>0.500244</td>\n",
       "      <td>0.500244</td>\n",
       "      <td>0.433224</td>\n",
       "    </tr>\n",
       "    <tr>\n",
       "      <th>min</th>\n",
       "      <td>0.000000</td>\n",
       "      <td>0.000000</td>\n",
       "      <td>0.000000</td>\n",
       "      <td>0.000000</td>\n",
       "      <td>0.000000</td>\n",
       "      <td>0.000000</td>\n",
       "      <td>0.000000</td>\n",
       "      <td>0.000000</td>\n",
       "      <td>0.000000</td>\n",
       "      <td>0.000000</td>\n",
       "      <td>0.000000</td>\n",
       "    </tr>\n",
       "    <tr>\n",
       "      <th>25%</th>\n",
       "      <td>0.000000</td>\n",
       "      <td>0.000000</td>\n",
       "      <td>0.000000</td>\n",
       "      <td>0.000000</td>\n",
       "      <td>0.000000</td>\n",
       "      <td>0.000000</td>\n",
       "      <td>0.000000</td>\n",
       "      <td>0.000000</td>\n",
       "      <td>0.000000</td>\n",
       "      <td>0.000000</td>\n",
       "      <td>0.000000</td>\n",
       "    </tr>\n",
       "    <tr>\n",
       "      <th>50%</th>\n",
       "      <td>0.500000</td>\n",
       "      <td>0.500000</td>\n",
       "      <td>0.500000</td>\n",
       "      <td>0.500000</td>\n",
       "      <td>0.500000</td>\n",
       "      <td>0.500000</td>\n",
       "      <td>0.500000</td>\n",
       "      <td>0.500000</td>\n",
       "      <td>0.500000</td>\n",
       "      <td>0.500000</td>\n",
       "      <td>0.000000</td>\n",
       "    </tr>\n",
       "    <tr>\n",
       "      <th>75%</th>\n",
       "      <td>1.000000</td>\n",
       "      <td>1.000000</td>\n",
       "      <td>1.000000</td>\n",
       "      <td>1.000000</td>\n",
       "      <td>1.000000</td>\n",
       "      <td>1.000000</td>\n",
       "      <td>1.000000</td>\n",
       "      <td>1.000000</td>\n",
       "      <td>1.000000</td>\n",
       "      <td>1.000000</td>\n",
       "      <td>0.250000</td>\n",
       "    </tr>\n",
       "    <tr>\n",
       "      <th>max</th>\n",
       "      <td>1.000000</td>\n",
       "      <td>1.000000</td>\n",
       "      <td>1.000000</td>\n",
       "      <td>1.000000</td>\n",
       "      <td>1.000000</td>\n",
       "      <td>1.000000</td>\n",
       "      <td>1.000000</td>\n",
       "      <td>1.000000</td>\n",
       "      <td>1.000000</td>\n",
       "      <td>1.000000</td>\n",
       "      <td>1.000000</td>\n",
       "    </tr>\n",
       "  </tbody>\n",
       "</table>\n",
       "</div>"
      ],
      "text/plain": [
       "            Input1       Input2       Input3       Input4       Input5  \\\n",
       "count  1024.000000  1024.000000  1024.000000  1024.000000  1024.000000   \n",
       "mean      0.500000     0.500000     0.500000     0.500000     0.500000   \n",
       "std       0.500244     0.500244     0.500244     0.500244     0.500244   \n",
       "min       0.000000     0.000000     0.000000     0.000000     0.000000   \n",
       "25%       0.000000     0.000000     0.000000     0.000000     0.000000   \n",
       "50%       0.500000     0.500000     0.500000     0.500000     0.500000   \n",
       "75%       1.000000     1.000000     1.000000     1.000000     1.000000   \n",
       "max       1.000000     1.000000     1.000000     1.000000     1.000000   \n",
       "\n",
       "            Input6       Input7       Input8       Input9      Input10  \\\n",
       "count  1024.000000  1024.000000  1024.000000  1024.000000  1024.000000   \n",
       "mean      0.500000     0.500000     0.500000     0.500000     0.500000   \n",
       "std       0.500244     0.500244     0.500244     0.500244     0.500244   \n",
       "min       0.000000     0.000000     0.000000     0.000000     0.000000   \n",
       "25%       0.000000     0.000000     0.000000     0.000000     0.000000   \n",
       "50%       0.500000     0.500000     0.500000     0.500000     0.500000   \n",
       "75%       1.000000     1.000000     1.000000     1.000000     1.000000   \n",
       "max       1.000000     1.000000     1.000000     1.000000     1.000000   \n",
       "\n",
       "            Output  \n",
       "count  1024.000000  \n",
       "mean      0.250000  \n",
       "std       0.433224  \n",
       "min       0.000000  \n",
       "25%       0.000000  \n",
       "50%       0.000000  \n",
       "75%       0.250000  \n",
       "max       1.000000  "
      ]
     },
     "execution_count": 3,
     "metadata": {},
     "output_type": "execute_result"
    }
   ],
   "source": [
    "truth_table = pd.read_csv(\"truth_table.csv\")\n",
    "truth_table = truth_table.astype(int) #replacing True and False values with 1 and 0 respectively\n",
    "truth_table.describe() #basic statistical detail about the truth table"
   ]
  },
  {
   "cell_type": "code",
   "execution_count": 4,
   "metadata": {},
   "outputs": [],
   "source": [
    "number_of_columns = len(truth_table.columns)\n",
    "number_of_gates = number_of_columns-2 # 1 less than the number of input columns"
   ]
  },
  {
   "cell_type": "markdown",
   "metadata": {},
   "source": [
    "## Phase 2: Initial Population Production"
   ]
  },
  {
   "cell_type": "markdown",
   "metadata": {},
   "source": [
    "We first define an empty population matrix as an array with no array (chromosome) inside, declaring the rows' dimension.We then add the initial chromosomes and create the primary population.<br>\n",
    "Our primary chromosomes are considered to be sequences of the same repeated gene each.In this case, if they become combined for the next generations we could have different genes inside the children."
   ]
  },
  {
   "cell_type": "code",
   "execution_count": 5,
   "metadata": {},
   "outputs": [
    {
     "data": {
      "text/plain": [
       "[[0, 0, 0, 0, 0, 0, 0, 0, 0],\n",
       " [1, 1, 1, 1, 1, 1, 1, 1, 1],\n",
       " [2, 2, 2, 2, 2, 2, 2, 2, 2],\n",
       " [3, 3, 3, 3, 3, 3, 3, 3, 3],\n",
       " [4, 4, 4, 4, 4, 4, 4, 4, 4],\n",
       " [5, 5, 5, 5, 5, 5, 5, 5, 5]]"
      ]
     },
     "execution_count": 5,
     "metadata": {},
     "output_type": "execute_result"
    }
   ],
   "source": [
    "#defining the population matrix rows as large as all the possible combinations of gates\n",
    "all_populations = [] #defining the empty population matrix\n",
    "current_population = []\n",
    "for gate in gates_labels:\n",
    "    this_chromosome = [gate] * number_of_gates\n",
    "    all_populations.append(this_chromosome)\n",
    "    current_population.append(this_chromosome)\n",
    "all_populations #we have initialized the primary population with len(gates_labels) chromosomes"
   ]
  },
  {
   "cell_type": "markdown",
   "metadata": {},
   "source": [
    "Hence, the initial population has 6 (#number of types of gates) members."
   ]
  },
  {
   "cell_type": "markdown",
   "metadata": {},
   "source": [
    "## Phase 3: Implementation and Fitness Criterion"
   ]
  },
  {
   "cell_type": "markdown",
   "metadata": {},
   "source": [
    "### Implementation of Gates/Genes\n",
    "To apply the gates in a possible solution (chromosome) to a row, we define a function that matches the gate label in the chromosome to the respective gate function and produces the expected output based on the given input (as explained in problem formulation).<br>\n",
    "Firstly, we have a function which matches every gate label to it's corresponding function:"
   ]
  },
  {
   "cell_type": "code",
   "execution_count": 6,
   "metadata": {},
   "outputs": [],
   "source": [
    "#0,1,2,3,4,5 are matched to AND,OR,XOR,NAND,NOR,XNOR respectively in this problem\n",
    "def apply_gate(value1, value2, gate_label):\n",
    "    if gate_label == 0:\n",
    "        return AND_gene(value1, value2)\n",
    "    elif gate_label == 1:\n",
    "        return OR_gene(value1, value2)\n",
    "    elif gate_label == 2:\n",
    "        return XOR_gene(value1, value2)\n",
    "    elif gate_label == 3:\n",
    "        return not AND_gene(value1, value2)\n",
    "    elif gate_label == 4:\n",
    "        return not OR_gene(value1, value2)\n",
    "    elif gate_label == 5:\n",
    "        return not XOR_gene(value1, value2)\n",
    "    else: \n",
    "        raise Exception(\"Invalide gene!\")"
   ]
  },
  {
   "cell_type": "markdown",
   "metadata": {},
   "source": [
    "Therefore, we will have a circuit function which applies the gates one-by-one:"
   ]
  },
  {
   "cell_type": "code",
   "execution_count": 7,
   "metadata": {},
   "outputs": [],
   "source": [
    "def apply_circuit(given_row_input, given_chromosome):\n",
    "    input_index = 0 #keeping track of the indices we have visited in the input row\n",
    "    input1 = given_row_input[input_index]\n",
    "    input_index +=1\n",
    "    input2 = given_row_input[input_index]\n",
    "    for gate in given_chromosome:\n",
    "        input1 = apply_gate(input1,input2,gate) #the result of the gate is used as input for the next gate\n",
    "        if input_index == len(given_row_input)-1: #we have reached the last input value\n",
    "            return input1 #the last gate result was the final result\n",
    "        input_index += 1\n",
    "        input2 = given_row_input[input_index] #reading the next input from the truth table"
   ]
  },
  {
   "cell_type": "markdown",
   "metadata": {},
   "source": [
    "### Fitness Criterion\n",
    "To evaluate how a specific solution (circuit/chromosome) is suitable for the given truth table, we apply the circuit to all the rows in the table and calculate a $fitness$ $ratio$ function that shows the ratio of the correctly calcultaed rows to all the rows in the given truth table.The chromosomes whose outputs matches that of the table the most, are the fittest.Hence, the chromosomes with a fitness ratio of more than 70% are <b> selected </b> as parents for mutation and reproduction (crossover) of the next generation in the following phase. "
   ]
  },
  {
   "cell_type": "code",
   "execution_count": 8,
   "metadata": {},
   "outputs": [],
   "source": [
    "def fitness_ratio(given_chromosome):\n",
    "    num_of_corrects = 0 #number of correct results\n",
    "    for index, line in truth_table.iterrows():\n",
    "        input_array = [line[\"Input1\"], line[\"Input2\"], line[\"Input3\"], line[\"Input4\"], line[\"Input5\"]\n",
    "                           ,line[\"Input6\"], line[\"Input7\"], line[\"Input8\"], line[\"Input9\"], line[\"Input10\"]]\n",
    "        this_result = apply_circuit(input_array, given_chromosome)\n",
    "        if this_result == line[\"Output\"]:\n",
    "            num_of_corrects +=1\n",
    "    return num_of_corrects/(truth_table.shape[0])\n",
    "\n",
    "def is_solution(given_population):\n",
    "    for chromosome in given_population:\n",
    "        if fitness_ratio(chromosome) == 1:\n",
    "            return True, chromosome\n",
    "    return False, []       \n",
    "\n",
    "\n",
    "def select_parents(given_population):\n",
    "    parents = []\n",
    "    for chromosome in given_population:\n",
    "        if fitness_ratio(chromosome) >= 0.7:\n",
    "            parents.append(chromosome)\n",
    "    return parents       "
   ]
  },
  {
   "cell_type": "markdown",
   "metadata": {},
   "source": [
    "## Phase 4: Mutation and Crossover Implementation and Reproduction"
   ]
  },
  {
   "cell_type": "markdown",
   "metadata": {},
   "source": [
    "Based on natural selection the fittest chromosomes survive and move on to the next generation.These chromosomes are the parents for the next generation.<br>\n",
    "That means the next generation contains 3 types of chromosomes:\n",
    "- Parents (chromosomes from the previous generation with a fitness ratio of 0.7 and above)\n",
    "- Children produced by crossover (combination of every two parents)\n",
    "- Children produced by mutation (of every single parent)"
   ]
  },
  {
   "cell_type": "markdown",
   "metadata": {},
   "source": [
    "### Genetic Algorithm Reproduction Cycle\n",
    "1.Select parents for the mating pool <br>\n",
    "2.Shuffle the mating pool.<br>\n",
    "3.For each consecutive pair apply crossover with probability $p_c$ , otherwise copy parents.<br>\n",
    "4.For each offspring apply mutation (bit-flip with probability $p_m$ independently for each bit).<br>\n",
    "5.Replace the whole population with the resulting offspring."
   ]
  },
  {
   "cell_type": "markdown",
   "metadata": {},
   "source": [
    "### Crossover \n",
    "A crossover child is created by splitting two chromosomes at $m$ random points and joining the split parts from every other chromosome.Here $m = 3$ seems a logical choice as we have 9 gates in total."
   ]
  },
  {
   "cell_type": "code",
   "execution_count": 9,
   "metadata": {},
   "outputs": [],
   "source": [
    "def crossover_child(chrom1, chrom2):\n",
    "    chrom_len = len(chrom1) #both chromosomes have the same length\n",
    "    indices = random.sample(range(1, chrom_len-1), 3) #3 random numbers for splitting from the first to one to last index\n",
    "    child = [chrom1[:indices[0]]+chrom2[indices[0]:indices[1]]+chrom1[indices[1]:indices[2]]+chrom2[indices[2]:]]\n",
    "    return"
   ]
  },
  {
   "cell_type": "markdown",
   "metadata": {},
   "source": [
    "### Mutation\n",
    "Mutation children are created by applying random changes to a single parent in the previous generation.Here we randomly select 4 genes and replace the gene (gate) by the next gene (gate) in the list defined in the beginning.This lets us try different combinations of gates through iterations."
   ]
  },
  {
   "cell_type": "code",
   "execution_count": 10,
   "metadata": {},
   "outputs": [],
   "source": [
    "def mutated_child(chromosome):\n",
    "    rand_indices = random.sample(range(0, len(chromosome)), 4)\n",
    "    for index in rand_indices:\n",
    "        chromosome[index] = (chromosome[index]+1)%gate_types\n",
    "    return chromosome"
   ]
  },
  {
   "cell_type": "markdown",
   "metadata": {},
   "source": [
    "### Next Generation\n",
    "Here we define a function which takes the parents for the next generation and ultimately changes the current and all populations (that are defined as global variables)."
   ]
  },
  {
   "cell_type": "code",
   "execution_count": 11,
   "metadata": {},
   "outputs": [],
   "source": [
    "def produce_next_generation(given_parents):\n",
    "    random.shuffle(given_parents)\n",
    "    new_generation = []\n",
    "    p_c = 0.4\n",
    "    p_m = 0.5\n",
    "    random_c = np.random.uniform(low = 0.0, high = 1.0, size = None)\n",
    "    random_m = np.random.uniform(low = 0.0, high = 1.0, size = None)\n",
    "    if random_c >= p_c:\n",
    "        for parent1, parent2 in itertools.combinations(given_parents,2):\n",
    "            new_child = crossover_child(parent1, parent2)\n",
    "            if random_m < p_m and new_child not in all_populations: #if it is in previous populations it's not an optimal solution\n",
    "                new_generation.append(new_child)\n",
    "            else:\n",
    "                new_child = mutated_child(new_child)\n",
    "                if new_child not in all_populations: #if it is in previous populations it's not an optimal solution\n",
    "                    new_generation.append(new_child)\n",
    "    current_population = new_generation\n",
    "    all_populations.extend(current_population)"
   ]
  },
  {
   "cell_type": "markdown",
   "metadata": {},
   "source": [
    "## Phase 5: Possible Questions\n"
   ]
  },
  {
   "cell_type": "markdown",
   "metadata": {},
   "source": [
    "1) What is the reason behind choosing our fitness criterion?\n",
    "> In our fitness criterion we chose the chromosomes their outputs were correct for more that $7/10$ of all input lines.Being correct for these many inputs gets us much closer to the final correct circuit(chromosome) and there are less gates(genes) that have to be changed in comparison with the unfit chromosomes.These changes are done in crossover and mutation."
   ]
  },
  {
   "cell_type": "markdown",
   "metadata": {},
   "source": [
    "2) What is the method for choosing the next generation? Why did we choose this method?\n",
    "> As mentioned above, the fittest parents from the previous generation and the result of their mutation and crossover creat the next generation.<br>\n",
    "By using this method we choose the chromosomes closest to the actual solution and by mutating and combining them (by crossover) it is more likely to reach the solution faster."
   ]
  },
  {
   "cell_type": "markdown",
   "metadata": {},
   "source": [
    "3) What is the affect of mutation and crossover? What is their probability?\n",
    "> In our fitness criterion we chose the chromosomes their outputs were correct for more that $7/10$ of all input lines.We have two random numbers that are produced by random uniform distributions (random_c and random_m).If these are at least the given probabilities (p_c and p_m respectively).By mutation and crossover we change and combine the chromosomes closest to the solution and it becomes much more possible to reach the solution."
   ]
  },
  {
   "cell_type": "markdown",
   "metadata": {},
   "source": [
    "4) Given the methods above, there is still the possibility of the chromosomes not changing (the same chromosomes being copied in every generation).Why does this happen? Is there any solution?\n",
    "> If we don't arrive to the solution early on, it is likely for the model to stay with the same chromosomes in geneartions.The reason for that is that the change in chromosomes happens in crossover and mutation and these two algorithms are only executed with p_c and p_m probabilities.Which means crossover does not become executed with a probability of 1-p_c and mutation is not executed probability of (1-p_c)(1-p_m).<br>\n",
    "We can omit the probabilities and apply crossover and mutation for all pairs and single chromosomes respectively.\n"
   ]
  },
  {
   "cell_type": "markdown",
   "metadata": {},
   "source": [
    "<large> We have the new reproduction function based on the explanation in question4: "
   ]
  },
  {
   "cell_type": "code",
   "execution_count": 14,
   "metadata": {},
   "outputs": [],
   "source": [
    "def produce_next_generation(given_parents):\n",
    "    random.shuffle(given_parents)\n",
    "    new_generation = []\n",
    "    p_c = 0.5\n",
    "    p_m = 0.7\n",
    "    random_c = np.random.uniform(low = 0.0, high = 1.0, size = None)\n",
    "    random_m = np.random.uniform(low = 0.0, high = 1.0, size = None)\n",
    "    for parent1, parent2 in itertools.combinations(given_parents,2):\n",
    "        new_child = crossover_child(parent1, parent2)\n",
    "        new_child = mutated_child(new_child)\n",
    "        if new_child not in all_populations: #if it is in previous populations it's not an optimal solution\n",
    "            new_generation.append(new_child)\n",
    "    current_population = new_generation\n",
    "    all_populations.extend(current_population)"
   ]
  },
  {
   "cell_type": "markdown",
   "metadata": {},
   "source": [
    "## Final Model and Solution\n",
    "Using all the parts above, we produce the final solution which is the chromosome that gives all the correct output."
   ]
  },
  {
   "cell_type": "code",
   "execution_count": 15,
   "metadata": {},
   "outputs": [
    {
     "ename": "TypeError",
     "evalue": "object of type 'NoneType' has no len()",
     "output_type": "error",
     "traceback": [
      "\u001b[0;31m---------------------------------------------------------------------------\u001b[0m",
      "\u001b[0;31mTypeError\u001b[0m                                 Traceback (most recent call last)",
      "\u001b[0;32m<ipython-input-15-d8ecc8a6016c>\u001b[0m in \u001b[0;36m<module>\u001b[0;34m\u001b[0m\n\u001b[1;32m      8\u001b[0m     \u001b[0;32mreturn\u001b[0m \u001b[0mchromosome\u001b[0m\u001b[0;34m\u001b[0m\u001b[0;34m\u001b[0m\u001b[0m\n\u001b[1;32m      9\u001b[0m \u001b[0;34m\u001b[0m\u001b[0m\n\u001b[0;32m---> 10\u001b[0;31m \u001b[0msol\u001b[0m \u001b[0;34m=\u001b[0m \u001b[0mmodel\u001b[0m\u001b[0;34m(\u001b[0m\u001b[0;34m)\u001b[0m\u001b[0;34m\u001b[0m\u001b[0;34m\u001b[0m\u001b[0m\n\u001b[0m\u001b[1;32m     11\u001b[0m \u001b[0mprint\u001b[0m\u001b[0;34m(\u001b[0m\u001b[0msol\u001b[0m\u001b[0;34m)\u001b[0m\u001b[0;34m\u001b[0m\u001b[0;34m\u001b[0m\u001b[0m\n",
      "\u001b[0;32m<ipython-input-15-d8ecc8a6016c>\u001b[0m in \u001b[0;36mmodel\u001b[0;34m()\u001b[0m\n\u001b[1;32m      4\u001b[0m     \u001b[0;32mwhile\u001b[0m \u001b[0msolved\u001b[0m \u001b[0;34m!=\u001b[0m \u001b[0;32mTrue\u001b[0m\u001b[0;34m:\u001b[0m\u001b[0;34m\u001b[0m\u001b[0;34m\u001b[0m\u001b[0m\n\u001b[1;32m      5\u001b[0m         \u001b[0mparents\u001b[0m \u001b[0;34m=\u001b[0m \u001b[0mselect_parents\u001b[0m\u001b[0;34m(\u001b[0m\u001b[0mcurrent_population\u001b[0m\u001b[0;34m)\u001b[0m\u001b[0;34m\u001b[0m\u001b[0;34m\u001b[0m\u001b[0m\n\u001b[0;32m----> 6\u001b[0;31m         \u001b[0mproduce_next_generation\u001b[0m\u001b[0;34m(\u001b[0m\u001b[0mparents\u001b[0m\u001b[0;34m)\u001b[0m\u001b[0;34m\u001b[0m\u001b[0;34m\u001b[0m\u001b[0m\n\u001b[0m\u001b[1;32m      7\u001b[0m         \u001b[0msolved\u001b[0m\u001b[0;34m,\u001b[0m \u001b[0mchromosome\u001b[0m \u001b[0;34m=\u001b[0m \u001b[0mis_solution\u001b[0m\u001b[0;34m(\u001b[0m\u001b[0mcurrent_population\u001b[0m\u001b[0;34m)\u001b[0m\u001b[0;34m\u001b[0m\u001b[0;34m\u001b[0m\u001b[0m\n\u001b[1;32m      8\u001b[0m     \u001b[0;32mreturn\u001b[0m \u001b[0mchromosome\u001b[0m\u001b[0;34m\u001b[0m\u001b[0;34m\u001b[0m\u001b[0m\n",
      "\u001b[0;32m<ipython-input-14-deabec2b670b>\u001b[0m in \u001b[0;36mproduce_next_generation\u001b[0;34m(given_parents)\u001b[0m\n\u001b[1;32m      8\u001b[0m     \u001b[0;32mfor\u001b[0m \u001b[0mparent1\u001b[0m\u001b[0;34m,\u001b[0m \u001b[0mparent2\u001b[0m \u001b[0;32min\u001b[0m \u001b[0mitertools\u001b[0m\u001b[0;34m.\u001b[0m\u001b[0mcombinations\u001b[0m\u001b[0;34m(\u001b[0m\u001b[0mgiven_parents\u001b[0m\u001b[0;34m,\u001b[0m\u001b[0;36m2\u001b[0m\u001b[0;34m)\u001b[0m\u001b[0;34m:\u001b[0m\u001b[0;34m\u001b[0m\u001b[0;34m\u001b[0m\u001b[0m\n\u001b[1;32m      9\u001b[0m         \u001b[0mnew_child\u001b[0m \u001b[0;34m=\u001b[0m \u001b[0mcrossover_child\u001b[0m\u001b[0;34m(\u001b[0m\u001b[0mparent1\u001b[0m\u001b[0;34m,\u001b[0m \u001b[0mparent2\u001b[0m\u001b[0;34m)\u001b[0m\u001b[0;34m\u001b[0m\u001b[0;34m\u001b[0m\u001b[0m\n\u001b[0;32m---> 10\u001b[0;31m         \u001b[0mnew_child\u001b[0m \u001b[0;34m=\u001b[0m \u001b[0mmutated_child\u001b[0m\u001b[0;34m(\u001b[0m\u001b[0mnew_child\u001b[0m\u001b[0;34m)\u001b[0m\u001b[0;34m\u001b[0m\u001b[0;34m\u001b[0m\u001b[0m\n\u001b[0m\u001b[1;32m     11\u001b[0m         \u001b[0;32mif\u001b[0m \u001b[0mnew_child\u001b[0m \u001b[0;32mnot\u001b[0m \u001b[0;32min\u001b[0m \u001b[0mall_populations\u001b[0m\u001b[0;34m:\u001b[0m \u001b[0;31m#if it is in previous populations it's not an optimal solution\u001b[0m\u001b[0;34m\u001b[0m\u001b[0;34m\u001b[0m\u001b[0m\n\u001b[1;32m     12\u001b[0m             \u001b[0mnew_generation\u001b[0m\u001b[0;34m.\u001b[0m\u001b[0mappend\u001b[0m\u001b[0;34m(\u001b[0m\u001b[0mnew_child\u001b[0m\u001b[0;34m)\u001b[0m\u001b[0;34m\u001b[0m\u001b[0;34m\u001b[0m\u001b[0m\n",
      "\u001b[0;32m<ipython-input-10-e10f4ec0f705>\u001b[0m in \u001b[0;36mmutated_child\u001b[0;34m(chromosome)\u001b[0m\n\u001b[1;32m      1\u001b[0m \u001b[0;32mdef\u001b[0m \u001b[0mmutated_child\u001b[0m\u001b[0;34m(\u001b[0m\u001b[0mchromosome\u001b[0m\u001b[0;34m)\u001b[0m\u001b[0;34m:\u001b[0m\u001b[0;34m\u001b[0m\u001b[0;34m\u001b[0m\u001b[0m\n\u001b[0;32m----> 2\u001b[0;31m     \u001b[0mrand_indices\u001b[0m \u001b[0;34m=\u001b[0m \u001b[0mrandom\u001b[0m\u001b[0;34m.\u001b[0m\u001b[0msample\u001b[0m\u001b[0;34m(\u001b[0m\u001b[0mrange\u001b[0m\u001b[0;34m(\u001b[0m\u001b[0;36m0\u001b[0m\u001b[0;34m,\u001b[0m \u001b[0mlen\u001b[0m\u001b[0;34m(\u001b[0m\u001b[0mchromosome\u001b[0m\u001b[0;34m)\u001b[0m\u001b[0;34m)\u001b[0m\u001b[0;34m,\u001b[0m \u001b[0;36m4\u001b[0m\u001b[0;34m)\u001b[0m\u001b[0;34m\u001b[0m\u001b[0;34m\u001b[0m\u001b[0m\n\u001b[0m\u001b[1;32m      3\u001b[0m     \u001b[0;32mfor\u001b[0m \u001b[0mindex\u001b[0m \u001b[0;32min\u001b[0m \u001b[0mrand_indices\u001b[0m\u001b[0;34m:\u001b[0m\u001b[0;34m\u001b[0m\u001b[0;34m\u001b[0m\u001b[0m\n\u001b[1;32m      4\u001b[0m         \u001b[0mchromosome\u001b[0m\u001b[0;34m[\u001b[0m\u001b[0mindex\u001b[0m\u001b[0;34m]\u001b[0m \u001b[0;34m=\u001b[0m \u001b[0;34m(\u001b[0m\u001b[0mchromosome\u001b[0m\u001b[0;34m[\u001b[0m\u001b[0mindex\u001b[0m\u001b[0;34m]\u001b[0m\u001b[0;34m+\u001b[0m\u001b[0;36m1\u001b[0m\u001b[0;34m)\u001b[0m\u001b[0;34m%\u001b[0m\u001b[0mgate_types\u001b[0m\u001b[0;34m\u001b[0m\u001b[0;34m\u001b[0m\u001b[0m\n\u001b[1;32m      5\u001b[0m     \u001b[0;32mreturn\u001b[0m \u001b[0mchromosome\u001b[0m\u001b[0;34m\u001b[0m\u001b[0;34m\u001b[0m\u001b[0m\n",
      "\u001b[0;31mTypeError\u001b[0m: object of type 'NoneType' has no len()"
     ]
    }
   ],
   "source": [
    "def model():\n",
    "    solved = False\n",
    "    chromosome = []\n",
    "    while solved != True:\n",
    "        parents = select_parents(current_population)\n",
    "        produce_next_generation(parents)\n",
    "        solved, chromosome = is_solution(current_population)\n",
    "    return chromosome\n",
    "\n",
    "sol = model()\n",
    "print(sol)"
   ]
  },
  {
   "cell_type": "markdown",
   "metadata": {},
   "source": [
    "## Summary\n",
    "We started with a primary population of chromosomes(circuits) and chose the fittest chromosomes as the parents of next generations.The next generation is produced by applying crossover and mutation to these parents.If a chromosome fits the population 100%, it becomes the solution and the process is stopped, otherwise the process continues.\n",
    " <img src=\"GA_cycle.png\"> "
   ]
  }
 ],
 "metadata": {
  "kernelspec": {
   "display_name": "Python 3",
   "language": "python",
   "name": "python3"
  },
  "language_info": {
   "codemirror_mode": {
    "name": "ipython",
    "version": 3
   },
   "file_extension": ".py",
   "mimetype": "text/x-python",
   "name": "python",
   "nbconvert_exporter": "python",
   "pygments_lexer": "ipython3",
   "version": "3.6.9"
  }
 },
 "nbformat": 4,
 "nbformat_minor": 4
}
